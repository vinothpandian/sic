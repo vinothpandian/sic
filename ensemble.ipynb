{
 "cells": [
  {
   "cell_type": "code",
   "execution_count": 1,
   "metadata": {},
   "outputs": [
    {
     "data": {
      "text/plain": [
       "0"
      ]
     },
     "execution_count": 1,
     "metadata": {},
     "output_type": "execute_result"
    }
   ],
   "source": [
    "\"\"\"\n",
    "Persist and Ensemble!\n",
    "\"\"\"\n",
    "import os\n",
    "os.system(\"pip install pandas-ml\")"
   ]
  },
  {
   "cell_type": "code",
   "execution_count": 2,
   "metadata": {},
   "outputs": [
    {
     "name": "stderr",
     "output_type": "stream",
     "text": [
      "Using TensorFlow backend.\n"
     ]
    }
   ],
   "source": [
    "import keras.backend as K\n",
    "import numpy as np\n",
    "import pandas as pd\n",
    "import tensorflow as tf\n",
    "from keras.applications.densenet import DenseNet121\n",
    "from keras.applications.densenet import \\\n",
    "    preprocess_input as densenet_preprocess_input\n",
    "from keras.applications.vgg16 import VGG16\n",
    "from keras.applications.vgg16 import preprocess_input as vgg16_preprocess_input\n",
    "from keras.applications.vgg19 import VGG19\n",
    "from keras.applications.vgg19 import preprocess_input as vgg19_preprocess_input\n",
    "from keras.applications.inception_v3 import InceptionV3\n",
    "from keras.applications.inception_v3 import preprocess_input as inception_preprocess_input\n",
    "from keras.callbacks import (EarlyStopping, LearningRateScheduler, ReduceLROnPlateau,CSVLogger,\n",
    "                                        ModelCheckpoint, TensorBoard)\n",
    "from keras.layers import Dense, Dropout, GlobalAveragePooling2D, Flatten, BatchNormalization, Input\n",
    "from keras.models import Model, Sequential, load_model\n",
    "from keras.optimizers import SGD, Adam, RMSprop\n",
    "from keras.preprocessing.image import ImageDataGenerator, load_img\n",
    "from keras.utils import get_file\n",
    "from PIL import Image, ImageFile\n",
    "from sklearn.metrics import (classification_report, cohen_kappa_score,\n",
    "                             confusion_matrix)\n",
    "from sklearn.model_selection import train_test_split\n",
    "from sklearn.preprocessing import LabelBinarizer\n",
    "from sklearn.utils import class_weight, shuffle\n",
    "\n",
    "import imblearn\n",
    "\n",
    "import warnings\n",
    "warnings.filterwarnings(\"ignore\")\n",
    "\n",
    "import pandas_ml as pdml\n",
    "import cv2\n",
    "\n",
    "import matplotlib.pyplot as plt\n",
    "plt.style.use('seaborn')\n",
    "\n",
    "ImageFile.LOAD_TRUNCATED_IMAGES = True"
   ]
  },
  {
   "cell_type": "code",
   "execution_count": 3,
   "metadata": {
    "_cell_guid": "b1076dfc-b9ad-4769-8c92-a6c4dae69d19",
    "_uuid": "8f2839f25d086af736a60e9eeb907d3b93b6e0e5"
   },
   "outputs": [],
   "source": [
    "# global optimization to find coefficients for weighted ensemble on blobs problem\n",
    "from sklearn.datasets.samples_generator import make_blobs\n",
    "from sklearn.metrics import accuracy_score\n",
    "from keras.utils import to_categorical\n",
    "from keras.models import Sequential\n",
    "from keras.layers import Dense\n",
    "from matplotlib import pyplot\n",
    "from numpy import mean\n",
    "from numpy import std\n",
    "from numpy import array\n",
    "from numpy import argmax\n",
    "from numpy import tensordot\n",
    "from numpy.linalg import norm\n",
    "from scipy.optimize import differential_evolution"
   ]
  },
  {
   "cell_type": "code",
   "execution_count": 4,
   "metadata": {},
   "outputs": [],
   "source": [
    "CLASSES = 5\n",
    "LABELS = [0, 1, 2, 3, 4]\n",
    "\n",
    "HEIGHT = 256\n",
    "WIDTH = 256\n",
    "DEPTH = 3\n",
    "\n",
    "# Image generator information\n",
    "VALIDATION_SPLIT = 0.1"
   ]
  },
  {
   "cell_type": "code",
   "execution_count": 5,
   "metadata": {},
   "outputs": [],
   "source": [
    "# Dataset folder information\n",
    "TRAINING_CSV = \"../input/innovation-challenge-2019/training-labels.csv\"\n",
    "DATASET_FOLDER = \"../input/innovation-challenge-2019/train/output_combined2\"\n",
    "TESTSET_FOLDER = \"../input/innovation-challenge-2019/test/Test\""
   ]
  },
  {
   "cell_type": "markdown",
   "metadata": {},
   "source": [
    "# Dataset"
   ]
  },
  {
   "cell_type": "markdown",
   "metadata": {},
   "source": [
    "## Imbalanced dataset"
   ]
  },
  {
   "cell_type": "code",
   "execution_count": 6,
   "metadata": {},
   "outputs": [
    {
     "name": "stdout",
     "output_type": "stream",
     "text": [
      "{'0': 9846, '2': 2300, '1': 1027, '3': 648, '4': 324}\n"
     ]
    },
    {
     "data": {
      "text/plain": [
       "<matplotlib.axes._subplots.AxesSubplot at 0x7f5ad606c828>"
      ]
     },
     "execution_count": 6,
     "metadata": {},
     "output_type": "execute_result"
    },
    {
     "data": {
      "image/png": "[encoded data removed]",
      "text/plain": [
       "<Figure size 576x396 with 1 Axes>"
      ]
     },
     "metadata": {},
     "output_type": "display_data"
    }
   ],
   "source": [
    "# Load and undersample dataset\n",
    "\n",
    "DATASET = pd.read_csv(TRAINING_CSV, dtype=str)\n",
    "# Use pandas-ml\n",
    "DATASET_ML = pdml.ModelFrame(DATASET, target=\"Drscore\")\n",
    "samples = DATASET_ML[\"Drscore\"].value_counts().to_dict()\n",
    "print(samples)\n",
    "ax = DATASET_ML[\"Drscore\"].value_counts().plot(kind=\"bar\", sort_columns=False, table = True)\n",
    "ax.get_xaxis().set_visible(False)\n",
    "ax\n"
   ]
  },
  {
   "cell_type": "markdown",
   "metadata": {},
   "source": [
    "## Undersampled dataset for validation"
   ]
  },
  {
   "cell_type": "code",
   "execution_count": 7,
   "metadata": {},
   "outputs": [
    {
     "name": "stdout",
     "output_type": "stream",
     "text": [
      "3    324\n",
      "4    324\n",
      "0    324\n",
      "2    324\n",
      "1    324\n",
      "Name: Drscore, dtype: int64\n"
     ]
    },
    {
     "data": {
      "text/plain": [
       "<matplotlib.axes._subplots.AxesSubplot at 0x7f5ad5f02e80>"
      ]
     },
     "execution_count": 7,
     "metadata": {},
     "output_type": "execute_result"
    },
    {
     "data": {
      "image/png": "[encoded data removed]",
      "text/plain": [
       "<Figure size 576x396 with 1 Axes>"
      ]
     },
     "metadata": {},
     "output_type": "display_data"
    }
   ],
   "source": [
    "from imblearn.under_sampling import RandomUnderSampler\n",
    "\n",
    "X = DATASET_ML['Filename'].values.reshape(-1, 1)\n",
    "y = DATASET_ML['Drscore'].values\n",
    "\n",
    "X_balanced, y_balanced = RandomUnderSampler(random_state=42).fit_resample(X, y)\n",
    "\n",
    "DATASET = pdml.ModelFrame({\n",
    "    \"Filename\": X_balanced.reshape(-1),\n",
    "    \"Drscore\": y_balanced\n",
    "})\n",
    "\n",
    "print(DATASET[\"Drscore\"].value_counts())\n",
    "\n",
    "ax = DATASET[\"Drscore\"].value_counts().plot(kind=\"bar\", sort_columns=False, table = True)\n",
    "ax.get_xaxis().set_visible(False)\n",
    "ax"
   ]
  },
  {
   "cell_type": "markdown",
   "metadata": {},
   "source": [
    "# Validation"
   ]
  },
  {
   "cell_type": "markdown",
   "metadata": {},
   "source": [
    "## Setup config for validation"
   ]
  },
  {
   "cell_type": "code",
   "execution_count": 8,
   "metadata": {},
   "outputs": [
    {
     "name": "stdout",
     "output_type": "stream",
     "text": [
      "[INFO] Creating validation data generator\n",
      "Found 1620 validated image filenames belonging to 5 classes.\n"
     ]
    }
   ],
   "source": [
    "preprocessing_function = vgg19_preprocess_input\n",
    "\n",
    "COLOR_MODE = \"grayscale\" if DEPTH == 1 else \"rgb\"\n",
    "BATCH_SIZE = 128\n",
    "\n",
    "VALIDATION_GENERATOR_ARGS = {\n",
    "    \"directory\":DATASET_FOLDER,\n",
    "    \"x_col\":\"Filename\",\n",
    "    \"y_col\":\"Drscore\",\n",
    "    \"class_mode\":\"categorical\",\n",
    "    \"color_mode\":COLOR_MODE,\n",
    "    \"target_size\":(HEIGHT, WIDTH),\n",
    "    \"batch_size\":BATCH_SIZE,\n",
    "    \"drop_duplicates\": False\n",
    "}\n",
    "\n",
    "TEST_GENERATOR_ARGS = {\n",
    "    \"directory\":DATASET_FOLDER,\n",
    "    \"x_col\":\"Filename\",\n",
    "    \"y_col\":\"Drscore\",\n",
    "    \"class_mode\":\"categorical\",\n",
    "    \"color_mode\":COLOR_MODE,\n",
    "    \"target_size\":(HEIGHT, WIDTH),\n",
    "    \"batch_size\":BATCH_SIZE,\n",
    "    \"shuffle\": False\n",
    "}\n",
    "\n",
    "VALIDATION_DATA_GENERATOR = ImageDataGenerator(preprocessing_function=preprocessing_function)\n",
    "\n",
    "print(\"[INFO] Creating validation data generator\")\n",
    "VALIDATION_DATA = VALIDATION_DATA_GENERATOR.flow_from_dataframe(dataframe=DATASET, **VALIDATION_GENERATOR_ARGS)"
   ]
  },
  {
   "cell_type": "code",
   "execution_count": 9,
   "metadata": {},
   "outputs": [],
   "source": [
    "###################################################################################################\n",
    "# Cohen Kappa metrics\n",
    "###################################################################################################\n",
    "\n",
    "\n",
    "def cohen_kappa(y_true, y_pred):\n",
    "    y_true_classes = tf.argmax(y_true, 1)\n",
    "    y_pred_classes = tf.argmax(y_pred, 1)\n",
    "    return tf.contrib.metrics.cohen_kappa(y_true_classes, y_pred_classes, CLASSES)[1]"
   ]
  },
  {
   "cell_type": "code",
   "execution_count": 10,
   "metadata": {},
   "outputs": [],
   "source": [
    "VGG19_OVERFITTING_PATH = \"../input/sicensemble/vgg19-overfitting.hdf5\"\n",
    "VGG19_OVERSAMPLED_PATH = \"../input/sicensemble/vgg19-oversampled.hdf5\""
   ]
  },
  {
   "cell_type": "code",
   "execution_count": 11,
   "metadata": {},
   "outputs": [],
   "source": [
    "VGG19_OVERFITTING = load_model(VGG19_OVERFITTING_PATH, custom_objects={\"cohen_kappa\": cohen_kappa})\n",
    "VGG19_OVERSAMPLED = load_model(VGG19_OVERSAMPLED_PATH, custom_objects={\"cohen_kappa\": cohen_kappa})"
   ]
  },
  {
   "cell_type": "code",
   "execution_count": 12,
   "metadata": {},
   "outputs": [],
   "source": [
    "# Initialize tf\n",
    "K.get_session().run(tf.local_variables_initializer())"
   ]
  },
  {
   "cell_type": "code",
   "execution_count": 13,
   "metadata": {},
   "outputs": [],
   "source": [
    "testX, y_test = VALIDATION_DATA.next()\n",
    "testy = np.argmax(y_test, axis=1)"
   ]
  },
  {
   "cell_type": "markdown",
   "metadata": {},
   "source": [
    "# Calculate ensemble weights"
   ]
  },
  {
   "cell_type": "code",
   "execution_count": 14,
   "metadata": {},
   "outputs": [],
   "source": [
    "n_members = 2\n",
    "members = [VGG19_OVERFITTING, VGG19_OVERSAMPLED]"
   ]
  },
  {
   "cell_type": "code",
   "execution_count": 15,
   "metadata": {},
   "outputs": [
    {
     "name": "stdout",
     "output_type": "stream",
     "text": [
      "Model 0 - 0.8463907353612452\n",
      "Model 1 - 0.8749206882293948\n"
     ]
    }
   ],
   "source": [
    "for i in range(n_members):\n",
    "    _,_, kappa = members[i].evaluate(testX, y_test, verbose=0)\n",
    "    print(f\"Model {i} - {kappa}\")    \n"
   ]
  },
  {
   "cell_type": "code",
   "execution_count": 16,
   "metadata": {
    "_cell_guid": "b1076dfc-b9ad-4769-8c92-a6c4dae69d19",
    "_uuid": "8f2839f25d086af736a60e9eeb907d3b93b6e0e5"
   },
   "outputs": [],
   "source": [
    "# make an ensemble prediction for multi-class classification\n",
    "def ensemble_predictions(members, weights, testX):\n",
    "    # make predictions\n",
    "    yhats = [model.predict(testX) for model in members]\n",
    "    yhats = array(yhats)\n",
    "    # weighted sum across ensemble members\n",
    "    summed = tensordot(yhats, weights, axes=((0),(0)))\n",
    "    # argmax across classes\n",
    "    result = argmax(summed, axis=1)\n",
    "    return result\n",
    "\n",
    "# # evaluate a specific number of members in an ensemble\n",
    "def evaluate_ensemble(members, weights, testX = None, testy = None):\n",
    "    # make prediction\n",
    "    if not testX:\n",
    "        testX, y_test = VALIDATION_DATA.next()\n",
    "        testy = np.argmax(y_test, axis=1)\n",
    "    \n",
    "    yhat = ensemble_predictions(members, weights, testX)\n",
    "    # calculate accuracy\n",
    "    return cohen_kappa_score(testy, yhat)\n",
    "\n",
    "# normalize a vector to have unit norm\n",
    "def normalize(weights):\n",
    "    # calculate l1 vector norm\n",
    "    result = norm(weights, 1)\n",
    "    # check for a vector of all zeros\n",
    "    if result == 0.0:\n",
    "        return weights\n",
    "    # return normalized vector (unit norm)\n",
    "    return weights / result\n",
    "\n",
    "# loss function for optimization process, designed to be minimized\n",
    "def loss_function(weights, members, testX, testy):\n",
    "    # normalize weights\n",
    "    normalized = normalize(weights)\n",
    "    # calculate error rate\n",
    "    return 1.0 - evaluate_ensemble(members, normalized)"
   ]
  },
  {
   "cell_type": "markdown",
   "metadata": {},
   "source": [
    "## Check ensemble with equal weights"
   ]
  },
  {
   "cell_type": "code",
   "execution_count": 17,
   "metadata": {},
   "outputs": [],
   "source": [
    "# evaluate averaging ensemble (equal weights)\n",
    "equal_weights = [1.0/n_members for _ in range(n_members)]\n",
    "# score = evaluate_ensemble(members, equal_weights)\n",
    "# print('Equal Weights Score: %.3f' % score)"
   ]
  },
  {
   "cell_type": "markdown",
   "metadata": {},
   "source": [
    "## Optimize weights with differential evolution of a single batch and check"
   ]
  },
  {
   "cell_type": "code",
   "execution_count": 18,
   "metadata": {},
   "outputs": [],
   "source": [
    "# # define bounds on each weight\n",
    "# bound_w = [(0.0, 1.0)  for _ in range(n_members)]\n",
    "# # arguments to the loss function\n",
    "# search_arg = (members, testX, testy)\n",
    "# # global optimization of ensemble weights\n",
    "# result = differential_evolution(loss_function, bound_w, search_arg, maxiter=10, tol=1e-7)\n",
    "# # get the chosen weights\n",
    "# single_validation_optimized_weights = normalize(result['x'])\n",
    "# print('Optimized Weights: %s' % single_validation_optimized_weights)\n",
    "# # evaluate chosen weights\n",
    "# score = evaluate_ensemble(members, single_validation_optimized_weights, testX, testy)\n",
    "# print('Optimized Weights Score: %.3f' % score)\n",
    "\n",
    "single_validation_optimized_weights = [0.41598507, 0.58401493]"
   ]
  },
  {
   "cell_type": "markdown",
   "metadata": {},
   "source": [
    "## Optimize weights with differential evolution of multiple batches and check"
   ]
  },
  {
   "cell_type": "code",
   "execution_count": 19,
   "metadata": {},
   "outputs": [],
   "source": [
    "# # define bounds on each weight\n",
    "# bound_w = [(0.0, 1.0)  for _ in range(n_members)]\n",
    "# # arguments to the loss function\n",
    "# search_arg = (members, testX, testy)\n",
    "# # global optimization of ensemble weights\n",
    "# result = differential_evolution(loss_function, bound_w, search_arg, maxiter=10, tol=1e-7)\n",
    "# # get the chosen weights\n",
    "# multiple_validation_optimized_weights = normalize(result['x'])\n",
    "# print('Optimized Weights: %s' % multiple_validation_optimized_weights)\n",
    "# # evaluate chosen weights\n",
    "# score = evaluate_ensemble(members, multiple_validation_optimized_weights)\n",
    "# print('Optimized Weights Score: %.3f' % score)\n",
    "\n",
    "multiple_validation_optimized_weights = [0.48217319, 0.51782681]"
   ]
  },
  {
   "cell_type": "markdown",
   "metadata": {},
   "source": [
    "# Ensembled classification"
   ]
  },
  {
   "cell_type": "markdown",
   "metadata": {},
   "source": [
    "## Ensembled optimization test"
   ]
  },
  {
   "cell_type": "code",
   "execution_count": 20,
   "metadata": {},
   "outputs": [
    {
     "name": "stdout",
     "output_type": "stream",
     "text": [
      "Found 1620 validated image filenames belonging to 5 classes.\n",
      "13/13 [==============================] - 223s 17s/step\n"
     ]
    }
   ],
   "source": [
    "TEST_DATA_GENERATOR = ImageDataGenerator(preprocessing_function=preprocessing_function)\n",
    "TEST_DATA = TEST_DATA_GENERATOR.flow_from_dataframe(dataframe=DATASET, **TEST_GENERATOR_ARGS)\n",
    "TEST_STEPS = len(DATASET)//BATCH_SIZE+1\n",
    "\n",
    "VGG19_OVERFITTING_PREDICTIONS = VGG19_OVERFITTING.predict_generator(generator=TEST_DATA, steps=TEST_STEPS, verbose=1)\n",
    "VGG19_OVERFITTING_PREDICTIONS_Y = np.argmax(VGG19_OVERFITTING_PREDICTIONS, axis=1)"
   ]
  },
  {
   "cell_type": "code",
   "execution_count": 21,
   "metadata": {},
   "outputs": [
    {
     "name": "stdout",
     "output_type": "stream",
     "text": [
      "CLASSIFICATION_REPORT\n",
      "              precision    recall  f1-score   support\n",
      "\n",
      "           0       0.79      0.98      0.87       324\n",
      "           1       1.00      0.68      0.81       324\n",
      "           2       0.76      0.97      0.85       324\n",
      "           3       0.92      0.87      0.89       324\n",
      "           4       0.98      0.84      0.90       324\n",
      "\n",
      "    accuracy                           0.87      1620\n",
      "   macro avg       0.89      0.87      0.87      1620\n",
      "weighted avg       0.89      0.87      0.87      1620\n",
      "\n",
      "CONFUSION_MATRIX\n",
      "[[317   0   7   0   0]\n",
      " [ 71 220  31   1   1]\n",
      " [  8   0 314   1   1]\n",
      " [  3   1  34 283   3]\n",
      " [  3   0  26  24 271]]\n",
      "COHEN_KAPPA_SCORE\n",
      "0.8341049382716049\n"
     ]
    }
   ],
   "source": [
    "CLASSIFICATION_REPORT = classification_report(\n",
    "    y_true=TEST_DATA.classes, y_pred=VGG19_OVERFITTING_PREDICTIONS_Y , labels=LABELS)\n",
    "print(\"CLASSIFICATION_REPORT\")\n",
    "print(CLASSIFICATION_REPORT)\n",
    "\n",
    "CONFUSION_MATRIX = confusion_matrix(\n",
    "    y_true=TEST_DATA.classes, y_pred=VGG19_OVERFITTING_PREDICTIONS_Y , labels=LABELS)\n",
    "print(\"CONFUSION_MATRIX\")\n",
    "print(CONFUSION_MATRIX)\n",
    "\n",
    "COHEN_KAPPA_SCORE = cohen_kappa_score(\n",
    "    y1=TEST_DATA.classes, y2=VGG19_OVERFITTING_PREDICTIONS_Y , labels=LABELS)\n",
    "print(\"COHEN_KAPPA_SCORE\")\n",
    "print(COHEN_KAPPA_SCORE)"
   ]
  },
  {
   "cell_type": "code",
   "execution_count": 22,
   "metadata": {},
   "outputs": [
    {
     "name": "stdout",
     "output_type": "stream",
     "text": [
      "Found 1620 validated image filenames belonging to 5 classes.\n",
      "13/13 [==============================] - 216s 17s/step\n"
     ]
    }
   ],
   "source": [
    "TEST_DATA_GENERATOR = ImageDataGenerator(preprocessing_function=preprocessing_function)\n",
    "TEST_DATA = TEST_DATA_GENERATOR.flow_from_dataframe(dataframe=DATASET, **TEST_GENERATOR_ARGS)\n",
    "TEST_STEPS = len(DATASET)//BATCH_SIZE+1\n",
    "\n",
    "\n",
    "VGG19_OVERSAMPLED_PREDICTIONS = VGG19_OVERSAMPLED.predict_generator(generator=TEST_DATA, steps=TEST_STEPS, verbose=1)\n",
    "VGG19_OVERSAMPLED_PREDICTIONS_Y = np.argmax(VGG19_OVERSAMPLED_PREDICTIONS, axis=1)"
   ]
  },
  {
   "cell_type": "code",
   "execution_count": 23,
   "metadata": {},
   "outputs": [
    {
     "name": "stdout",
     "output_type": "stream",
     "text": [
      "CLASSIFICATION_REPORT\n",
      "              precision    recall  f1-score   support\n",
      "\n",
      "           0       0.79      0.57      0.67       324\n",
      "           1       0.74      0.96      0.84       324\n",
      "           2       0.84      0.82      0.83       324\n",
      "           3       0.98      0.99      0.99       324\n",
      "           4       0.99      1.00      1.00       324\n",
      "\n",
      "    accuracy                           0.87      1620\n",
      "   macro avg       0.87      0.87      0.86      1620\n",
      "weighted avg       0.87      0.87      0.86      1620\n",
      "\n",
      "CONFUSION_MATRIX\n",
      "[[186  93  43   1   1]\n",
      " [ 11 310   3   0   0]\n",
      " [ 38  14 266   5   1]\n",
      " [  0   0   3 321   0]\n",
      " [  0   0   0   0 324]]\n",
      "COHEN_KAPPA_SCORE\n",
      "0.8356481481481481\n"
     ]
    }
   ],
   "source": [
    "CLASSIFICATION_REPORT = classification_report(\n",
    "    y_true=TEST_DATA.classes, y_pred=VGG19_OVERSAMPLED_PREDICTIONS_Y , labels=LABELS)\n",
    "print(\"CLASSIFICATION_REPORT\")\n",
    "print(CLASSIFICATION_REPORT)\n",
    "\n",
    "CONFUSION_MATRIX = confusion_matrix(\n",
    "    y_true=TEST_DATA.classes, y_pred=VGG19_OVERSAMPLED_PREDICTIONS_Y , labels=LABELS)\n",
    "print(\"CONFUSION_MATRIX\")\n",
    "print(CONFUSION_MATRIX)\n",
    "\n",
    "COHEN_KAPPA_SCORE = cohen_kappa_score(\n",
    "    y1=TEST_DATA.classes, y2=VGG19_OVERSAMPLED_PREDICTIONS_Y , labels=LABELS)\n",
    "print(\"COHEN_KAPPA_SCORE\")\n",
    "print(COHEN_KAPPA_SCORE)"
   ]
  },
  {
   "cell_type": "code",
   "execution_count": 24,
   "metadata": {},
   "outputs": [],
   "source": [
    "yhats = [VGG19_OVERFITTING_PREDICTIONS, VGG19_OVERSAMPLED_PREDICTIONS]"
   ]
  },
  {
   "cell_type": "markdown",
   "metadata": {},
   "source": [
    "### Equal weights [0.5, 0.5]"
   ]
  },
  {
   "cell_type": "code",
   "execution_count": 25,
   "metadata": {},
   "outputs": [
    {
     "name": "stdout",
     "output_type": "stream",
     "text": [
      "Running predictions...\n",
      "CLASSIFICATION_REPORT\n",
      "              precision    recall  f1-score   support\n",
      "\n",
      "           0       0.89      0.97      0.93       324\n",
      "           1       0.98      0.88      0.93       324\n",
      "           2       0.95      0.98      0.97       324\n",
      "           3       0.99      0.98      0.99       324\n",
      "           4       1.00      1.00      1.00       324\n",
      "\n",
      "    accuracy                           0.96      1620\n",
      "   macro avg       0.96      0.96      0.96      1620\n",
      "weighted avg       0.96      0.96      0.96      1620\n",
      "\n",
      "CONFUSION_MATRIX\n",
      "[[313   6   5   0   0]\n",
      " [ 30 286   7   1   0]\n",
      " [  5   1 318   0   0]\n",
      " [  2   0   3 318   1]\n",
      " [  0   0   0   1 323]]\n",
      "COHEN_KAPPA_SCORE\n",
      "0.9521604938271605\n"
     ]
    }
   ],
   "source": [
    "print(\"Running predictions...\")\n",
    "yhats = array(yhats)\n",
    "# weighted sum across ensemble members\n",
    "summed = tensordot(yhats, equal_weights, axes=((0),(0)))\n",
    "# argmax across classes\n",
    "EQUAL_WEIGHTS_PREDICTIONS = argmax(summed, axis=1)\n",
    "\n",
    "\n",
    "CLASSIFICATION_REPORT = classification_report(\n",
    "    y_true=TEST_DATA.classes, y_pred=EQUAL_WEIGHTS_PREDICTIONS, labels=LABELS)\n",
    "print(\"CLASSIFICATION_REPORT\")\n",
    "print(CLASSIFICATION_REPORT)\n",
    "\n",
    "CONFUSION_MATRIX = confusion_matrix(\n",
    "    y_true=TEST_DATA.classes, y_pred=EQUAL_WEIGHTS_PREDICTIONS, labels=LABELS)\n",
    "print(\"CONFUSION_MATRIX\")\n",
    "print(CONFUSION_MATRIX)\n",
    "\n",
    "COHEN_KAPPA_SCORE = cohen_kappa_score(\n",
    "    y1=TEST_DATA.classes, y2=EQUAL_WEIGHTS_PREDICTIONS, labels=LABELS)\n",
    "print(\"COHEN_KAPPA_SCORE\")\n",
    "print(COHEN_KAPPA_SCORE)"
   ]
  },
  {
   "cell_type": "markdown",
   "metadata": {},
   "source": [
    "### Single validation [0.41598507, 0.58401493]"
   ]
  },
  {
   "cell_type": "code",
   "execution_count": 26,
   "metadata": {},
   "outputs": [
    {
     "name": "stdout",
     "output_type": "stream",
     "text": [
      "Running predictions...\n",
      "CLASSIFICATION_REPORT\n",
      "              precision    recall  f1-score   support\n",
      "\n",
      "           0       0.90      0.91      0.91       324\n",
      "           1       0.94      0.91      0.93       324\n",
      "           2       0.95      0.98      0.96       324\n",
      "           3       1.00      0.99      0.99       324\n",
      "           4       1.00      1.00      1.00       324\n",
      "\n",
      "    accuracy                           0.96      1620\n",
      "   macro avg       0.96      0.96      0.96      1620\n",
      "weighted avg       0.96      0.96      0.96      1620\n",
      "\n",
      "CONFUSION_MATRIX\n",
      "[[296  16  12   0   0]\n",
      " [ 26 296   2   0   0]\n",
      " [  5   2 317   0   0]\n",
      " [  2   0   2 320   0]\n",
      " [  0   0   0   0 324]]\n",
      "COHEN_KAPPA_SCORE\n",
      "0.9483024691358025\n"
     ]
    }
   ],
   "source": [
    "print(\"Running predictions...\")\n",
    "yhats = array(yhats)\n",
    "# weighted sum across ensemble members\n",
    "summed = tensordot(yhats, single_validation_optimized_weights, axes=((0),(0)))\n",
    "# argmax across classes\n",
    "SINGLE_VALIDATION_PREDICTIONS = argmax(summed, axis=1)\n",
    "\n",
    "LABELS = [0, 1, 2, 3, 4]\n",
    "\n",
    "CLASSIFICATION_REPORT = classification_report(\n",
    "    y_true=TEST_DATA.classes, y_pred=SINGLE_VALIDATION_PREDICTIONS, labels=LABELS)\n",
    "print(\"CLASSIFICATION_REPORT\")\n",
    "print(CLASSIFICATION_REPORT)\n",
    "\n",
    "CONFUSION_MATRIX = confusion_matrix(\n",
    "    y_true=TEST_DATA.classes, y_pred=SINGLE_VALIDATION_PREDICTIONS, labels=LABELS)\n",
    "print(\"CONFUSION_MATRIX\")\n",
    "print(CONFUSION_MATRIX)\n",
    "\n",
    "COHEN_KAPPA_SCORE = cohen_kappa_score(\n",
    "    y1=TEST_DATA.classes, y2=SINGLE_VALIDATION_PREDICTIONS, labels=LABELS)\n",
    "print(\"COHEN_KAPPA_SCORE\")\n",
    "print(COHEN_KAPPA_SCORE)"
   ]
  },
  {
   "cell_type": "markdown",
   "metadata": {},
   "source": [
    "### Mulitple validation [0.48217319 0.51782681]"
   ]
  },
  {
   "cell_type": "code",
   "execution_count": 27,
   "metadata": {},
   "outputs": [
    {
     "data": {
      "text/plain": [
       "[0.48217319, 0.51782681]"
      ]
     },
     "execution_count": 27,
     "metadata": {},
     "output_type": "execute_result"
    }
   ],
   "source": [
    "multiple_validation_optimized_weights"
   ]
  },
  {
   "cell_type": "code",
   "execution_count": 28,
   "metadata": {},
   "outputs": [
    {
     "name": "stdout",
     "output_type": "stream",
     "text": [
      "Running predictions...\n",
      "CLASSIFICATION_REPORT\n",
      "              precision    recall  f1-score   support\n",
      "\n",
      "           0       0.90      0.96      0.93       324\n",
      "           1       0.97      0.89      0.93       324\n",
      "           2       0.96      0.98      0.97       324\n",
      "           3       1.00      0.99      0.99       324\n",
      "           4       1.00      1.00      1.00       324\n",
      "\n",
      "    accuracy                           0.96      1620\n",
      "   macro avg       0.97      0.96      0.96      1620\n",
      "weighted avg       0.97      0.96      0.96      1620\n",
      "\n",
      "CONFUSION_MATRIX\n",
      "[[311   8   5   0   0]\n",
      " [ 29 289   6   0   0]\n",
      " [  5   1 318   0   0]\n",
      " [  2   0   2 320   0]\n",
      " [  0   0   0   0 324]]\n",
      "COHEN_KAPPA_SCORE\n",
      "0.9552469135802469\n"
     ]
    }
   ],
   "source": [
    "print(\"Running predictions...\")\n",
    "yhats = array(yhats)\n",
    "# weighted sum across ensemble members\n",
    "summed = tensordot(yhats, multiple_validation_optimized_weights, axes=((0),(0)))\n",
    "# argmax across classes\n",
    "MULTIPLE_VALIDATION_PREDICTIONS = argmax(summed, axis=1)\n",
    "\n",
    "LABELS = [0, 1, 2, 3, 4]\n",
    "\n",
    "CLASSIFICATION_REPORT = classification_report(\n",
    "    y_true=TEST_DATA.classes, y_pred=MULTIPLE_VALIDATION_PREDICTIONS, labels=LABELS)\n",
    "print(\"CLASSIFICATION_REPORT\")\n",
    "print(CLASSIFICATION_REPORT)\n",
    "\n",
    "CONFUSION_MATRIX = confusion_matrix(\n",
    "    y_true=TEST_DATA.classes, y_pred=MULTIPLE_VALIDATION_PREDICTIONS, labels=LABELS)\n",
    "print(\"CONFUSION_MATRIX\")\n",
    "print(CONFUSION_MATRIX)\n",
    "\n",
    "COHEN_KAPPA_SCORE = cohen_kappa_score(\n",
    "    y1=TEST_DATA.classes, y2=MULTIPLE_VALIDATION_PREDICTIONS, labels=LABELS)\n",
    "print(\"COHEN_KAPPA_SCORE\")\n",
    "print(COHEN_KAPPA_SCORE)"
   ]
  },
  {
   "cell_type": "markdown",
   "metadata": {},
   "source": [
    "# Ensembled submission file"
   ]
  },
  {
   "cell_type": "code",
   "execution_count": 29,
   "metadata": {},
   "outputs": [
    {
     "name": "stdout",
     "output_type": "stream",
     "text": [
      "Reading Testset for preditions\n"
     ]
    }
   ],
   "source": [
    "print(\"Reading Testset for preditions\")\n",
    "TESTSET_ARRAY = [[filename, \"0\"]\n",
    "                 for filename in os.listdir(TESTSET_FOLDER)]\n",
    "TESTSET = pd.DataFrame(TESTSET_ARRAY, columns=[\"Id\", \"Expected\"])"
   ]
  },
  {
   "cell_type": "code",
   "execution_count": 30,
   "metadata": {},
   "outputs": [
    {
     "name": "stdout",
     "output_type": "stream",
     "text": [
      "[INFO] Creating testset data generator\n",
      "Found 999 validated image filenames belonging to 1 classes.\n"
     ]
    },
    {
     "data": {
      "text/plain": [
       "8"
      ]
     },
     "execution_count": 30,
     "metadata": {},
     "output_type": "execute_result"
    }
   ],
   "source": [
    "NUM_OF_TESTSET_SAMPLES = len(TESTSET)//BATCH_SIZE+1\n",
    "\n",
    "TESTSET_DATA_GENERATOR = ImageDataGenerator(preprocessing_function=preprocessing_function)\n",
    "\n",
    "print(\"[INFO] Creating testset data generator\")\n",
    "TESTSET_DATA = TESTSET_DATA_GENERATOR.flow_from_dataframe(dataframe=TESTSET,\n",
    "                                                          directory=TESTSET_FOLDER,\n",
    "                                                          x_col=\"Id\",\n",
    "                                                          y_col=\"Expected\",\n",
    "                                                          color_mode = COLOR_MODE,\n",
    "                                                          class_mode=\"categorical\",\n",
    "                                                          target_size=(HEIGHT, WIDTH),\n",
    "                                                          batch_size=BATCH_SIZE,\n",
    "                                                          shuffle=False)\n",
    "\n",
    "NUM_OF_TESTSET_SAMPLES"
   ]
  },
  {
   "cell_type": "code",
   "execution_count": 31,
   "metadata": {},
   "outputs": [
    {
     "name": "stdout",
     "output_type": "stream",
     "text": [
      "8/8 [==============================] - 93s 12s/step\n"
     ]
    }
   ],
   "source": [
    "VGG19_OVERFITTING_PREDICTIONS_TESTSET = VGG19_OVERFITTING.predict_generator(generator=TESTSET_DATA, steps=NUM_OF_TESTSET_SAMPLES, verbose=1)"
   ]
  },
  {
   "cell_type": "code",
   "execution_count": 32,
   "metadata": {},
   "outputs": [
    {
     "name": "stdout",
     "output_type": "stream",
     "text": [
      "[INFO] Creating testset data generator\n",
      "Found 999 validated image filenames belonging to 1 classes.\n"
     ]
    },
    {
     "data": {
      "text/plain": [
       "8"
      ]
     },
     "execution_count": 32,
     "metadata": {},
     "output_type": "execute_result"
    }
   ],
   "source": [
    "NUM_OF_TESTSET_SAMPLES = len(TESTSET)//BATCH_SIZE+1\n",
    "\n",
    "TESTSET_DATA_GENERATOR = ImageDataGenerator(preprocessing_function=preprocessing_function)\n",
    "\n",
    "print(\"[INFO] Creating testset data generator\")\n",
    "TESTSET_DATA = TESTSET_DATA_GENERATOR.flow_from_dataframe(dataframe=TESTSET,\n",
    "                                                          directory=TESTSET_FOLDER,\n",
    "                                                          x_col=\"Id\",\n",
    "                                                          y_col=\"Expected\",\n",
    "                                                          color_mode = COLOR_MODE,\n",
    "                                                          class_mode=\"categorical\",\n",
    "                                                          target_size=(HEIGHT, WIDTH),\n",
    "                                                          batch_size=BATCH_SIZE,\n",
    "                                                          shuffle=False)\n",
    "NUM_OF_TESTSET_SAMPLES"
   ]
  },
  {
   "cell_type": "code",
   "execution_count": 33,
   "metadata": {},
   "outputs": [
    {
     "name": "stdout",
     "output_type": "stream",
     "text": [
      "8/8 [==============================] - 77s 10s/step\n"
     ]
    }
   ],
   "source": [
    "VGG19_OVERSAMPLED_PREDICTIONS_TESTSET = VGG19_OVERSAMPLED.predict_generator(generator=TESTSET_DATA, steps=NUM_OF_TESTSET_SAMPLES, verbose=1)"
   ]
  },
  {
   "cell_type": "code",
   "execution_count": 34,
   "metadata": {},
   "outputs": [
    {
     "name": "stdout",
     "output_type": "stream",
     "text": [
      "Running predictions...\n"
     ]
    }
   ],
   "source": [
    "yhats = [VGG19_OVERFITTING_PREDICTIONS_TESTSET, VGG19_OVERSAMPLED_PREDICTIONS_TESTSET]\n",
    "\n",
    "print(\"Running predictions...\")\n",
    "yhats = array(yhats)\n",
    "# weighted sum across ensemble members\n",
    "summed = tensordot(yhats, multiple_validation_optimized_weights, axes=((0),(0)))\n",
    "# argmax across classes\n",
    "PREDICTIONS = argmax(summed, axis=1)"
   ]
  },
  {
   "cell_type": "code",
   "execution_count": 35,
   "metadata": {},
   "outputs": [],
   "source": [
    "TESTSET[\"Expected\"] = PREDICTIONS\n",
    "TESTSET.to_csv(\"Submission.csv\", index=False)"
   ]
  },
  {
   "cell_type": "code",
   "execution_count": 36,
   "metadata": {},
   "outputs": [
    {
     "name": "stdout",
     "output_type": "stream",
     "text": [
      "Running predictions...\n"
     ]
    }
   ],
   "source": [
    "yhats = [VGG19_OVERFITTING_PREDICTIONS_TESTSET, VGG19_OVERSAMPLED_PREDICTIONS_TESTSET]\n",
    "\n",
    "print(\"Running predictions...\")\n",
    "yhats = array(yhats)\n",
    "# weighted sum across ensemble members\n",
    "summed = tensordot(yhats, equal_weights, axes=((0),(0)))\n",
    "# argmax across classes\n",
    "PREDICTIONS = argmax(summed, axis=1)\n",
    "\n",
    "NEW_TESTSET = pd.DataFrame(TESTSET_ARRAY, columns=[\"Id\", \"Expected\"])\n",
    "NEW_TESTSET[\"Expected\"] = PREDICTIONS"
   ]
  },
  {
   "cell_type": "code",
   "execution_count": 37,
   "metadata": {},
   "outputs": [],
   "source": [
    "from IPython.display import HTML\n",
    "import pandas as pd\n",
    "import numpy as np\n",
    "import base64\n",
    "\n",
    "# function that takes in a dataframe and creates a text link to  \n",
    "# download it (will only work for files < 2MB or so)\n",
    "def create_download_link(df, title = \"Download CSV file\", filename = \"Submission.csv\"):  \n",
    "    csv = df.to_csv(index=False)\n",
    "    b64 = base64.b64encode(csv.encode())\n",
    "    payload = b64.decode()\n",
    "    html = '<a download=\"{filename}\" href=\"data:text/csv;base64,{payload}\" target=\"_blank\">{title}</a>'\n",
    "    html = html.format(payload=payload,title=title,filename=filename)\n",
    "    return HTML(html)"
   ]
  },
  {
   "cell_type": "code",
   "execution_count": 38,
   "metadata": {},
   "outputs": [
    {
     "data": {
      "text/html": [
       "<a download=\"Submission.csv\" href=\"data:text/csv;base64,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\" target=\"_blank\">Download CSV file</a>"
      ],
      "text/plain": [
       "<IPython.core.display.HTML object>"
      ]
     },
     "execution_count": 38,
     "metadata": {},
     "output_type": "execute_result"
    }
   ],
   "source": [
    "create_download_link(TESTSET)"
   ]
  },
  {
   "cell_type": "code",
   "execution_count": 39,
   "metadata": {},
   "outputs": [],
   "source": [
    "x=NEW_TESTSET[\"Expected\"] == TESTSET[\"Expected\"]"
   ]
  },
  {
   "cell_type": "code",
   "execution_count": 40,
   "metadata": {},
   "outputs": [
    {
     "data": {
      "text/plain": [
       "216    False\n",
       "503    False\n",
       "692    False\n",
       "809    False\n",
       "924    False\n",
       "970    False\n",
       "972    False\n",
       "990    False\n",
       "Name: Expected, dtype: bool"
      ]
     },
     "execution_count": 40,
     "metadata": {},
     "output_type": "execute_result"
    }
   ],
   "source": [
    "x[x == False]"
   ]
  },
  {
   "cell_type": "code",
   "execution_count": null,
   "metadata": {},
   "outputs": [],
   "source": []
  }
 ],
 "metadata": {
  "kernelspec": {
   "display_name": "Python 3",
   "language": "python",
   "name": "python3"
  },
  "language_info": {
   "codemirror_mode": {
    "name": "ipython",
    "version": 3
   },
   "file_extension": ".py",
   "mimetype": "text/x-python",
   "name": "python",
   "nbconvert_exporter": "python",
   "pygments_lexer": "ipython3",
   "version": "3.6.6"
  }
 },
 "nbformat": 4,
 "nbformat_minor": 1
}
